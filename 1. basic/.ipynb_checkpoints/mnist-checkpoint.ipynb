{
 "cells": [
  {
   "cell_type": "markdown",
   "metadata": {},
   "source": [
    "### MLP(Multi-layer Perceptron) 모델 설계 순서\n",
    "1. 모듈 임포트하기\n",
    "2. 딥러닝 모델 설계할 때 사용할 장비 확인\n",
    "3. 데이터 다운로드 하기\n",
    "4. 데이터 확인하기\n",
    "5. MLP 모델 설계하기\n",
    "6. Optimizer, Objective function 설정하기\n",
    "7. 학습되는 과정에서, 학습데이터에 대한 모델 성능을 확인하는 함수 정의하기\n",
    "8. 학습되는 과정에서, 검증데이터에 대한 모델 성능을 확인하는 함수 정의하기\n",
    "9. 학습을 실행하면서, 훈련셋에 대한 loss 및 성능 확인하기"
   ]
  },
  {
   "cell_type": "code",
   "execution_count": 5,
   "metadata": {},
   "outputs": [],
   "source": [
    "# 1. 모듈 임포트하기.\n",
    "import numpy as np # 선형대수 관련 함수 모듈.\n",
    "import matplotlib.pyplot as plt # 수치 시각화 모듈.\n",
    "import torch # 파이토치 기본 모듈\n",
    "import torch.nn as nn # 인공신경망 관련 함수 모듈.\n",
    "import torch.nn.functional as F # 자주 사용되는 함수를 F로 alias 지정.\n",
    "from torchvision import transforms, datasets # vision 관련 데이터 학습시 사용하는 함수 임포트."
   ]
  },
  {
   "cell_type": "code",
   "execution_count": 8,
   "metadata": {},
   "outputs": [
    {
     "name": "stdout",
     "output_type": "stream",
     "text": [
      "device: cpu\n"
     ]
    }
   ],
   "source": [
    "# 2. 장비 확인\n",
    "if torch.cuda.is_available():\n",
    "    DEVICE = torch.device('cuda')\n",
    "else:\n",
    "    DEVICE = torch.device('cpu')\n",
    "print(f'device: {DEVICE}')"
   ]
  },
  {
   "cell_type": "code",
   "execution_count": 13,
   "metadata": {},
   "outputs": [],
   "source": [
    "# 3. 데이터 다운로드\n",
    "train_dataset = datasets.MNIST(root=\"./data/MNIST\", train=True, download=True, transform=transforms.ToTensor())\n",
    "test_dataset = datasets.MNIST(root=\"./data/MNIST\", train=False, transform=transforms.ToTensor())"
   ]
  },
  {
   "cell_type": "code",
   "execution_count": null,
   "metadata": {},
   "outputs": [],
   "source": []
  }
 ],
 "metadata": {
  "kernelspec": {
   "display_name": "pytorch-lab",
   "language": "python",
   "name": "pytorch-lab"
  },
  "language_info": {
   "codemirror_mode": {
    "name": "ipython",
    "version": 3
   },
   "file_extension": ".py",
   "mimetype": "text/x-python",
   "name": "python",
   "nbconvert_exporter": "python",
   "pygments_lexer": "ipython3",
   "version": "3.7.9"
  }
 },
 "nbformat": 4,
 "nbformat_minor": 4
}
